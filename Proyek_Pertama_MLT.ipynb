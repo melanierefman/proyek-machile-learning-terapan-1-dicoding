{
  "nbformat": 4,
  "nbformat_minor": 0,
  "metadata": {
    "colab": {
      "provenance": []
    },
    "kernelspec": {
      "name": "python3",
      "display_name": "Python 3"
    },
    "language_info": {
      "name": "python"
    }
  },
  "cells": [
    {
      "cell_type": "markdown",
      "source": [
        "# **Proyek Machine Learning**\n",
        "\n",
        "Nama: Melanie Sayyidina Sabrina Refman"
      ],
      "metadata": {
        "id": "nDa9UWDRbe5w"
      }
    },
    {
      "cell_type": "markdown",
      "source": [
        "## **Import Dataset**"
      ],
      "metadata": {
        "id": "317SLqrfvP9r"
      }
    },
    {
      "cell_type": "code",
      "source": [
        "from google.colab import files\n",
        "\n",
        "# Mengupload file kaggle\n",
        "files.upload()"
      ],
      "metadata": {
        "colab": {
          "base_uri": "https://localhost:8080/",
          "height": 108
        },
        "id": "9vNG7QnBr8ea",
        "outputId": "f420ef3c-f65a-4288-880f-b5db2d6984d3"
      },
      "execution_count": null,
      "outputs": [
        {
          "output_type": "display_data",
          "data": {
            "text/plain": [
              "<IPython.core.display.HTML object>"
            ],
            "text/html": [
              "\n",
              "     <input type=\"file\" id=\"files-330f687b-18f7-417c-9dbb-a8f68ba0e220\" name=\"files[]\" multiple disabled\n",
              "        style=\"border:none\" />\n",
              "     <output id=\"result-330f687b-18f7-417c-9dbb-a8f68ba0e220\">\n",
              "      Upload widget is only available when the cell has been executed in the\n",
              "      current browser session. Please rerun this cell to enable.\n",
              "      </output>\n",
              "      <script>// Copyright 2017 Google LLC\n",
              "//\n",
              "// Licensed under the Apache License, Version 2.0 (the \"License\");\n",
              "// you may not use this file except in compliance with the License.\n",
              "// You may obtain a copy of the License at\n",
              "//\n",
              "//      http://www.apache.org/licenses/LICENSE-2.0\n",
              "//\n",
              "// Unless required by applicable law or agreed to in writing, software\n",
              "// distributed under the License is distributed on an \"AS IS\" BASIS,\n",
              "// WITHOUT WARRANTIES OR CONDITIONS OF ANY KIND, either express or implied.\n",
              "// See the License for the specific language governing permissions and\n",
              "// limitations under the License.\n",
              "\n",
              "/**\n",
              " * @fileoverview Helpers for google.colab Python module.\n",
              " */\n",
              "(function(scope) {\n",
              "function span(text, styleAttributes = {}) {\n",
              "  const element = document.createElement('span');\n",
              "  element.textContent = text;\n",
              "  for (const key of Object.keys(styleAttributes)) {\n",
              "    element.style[key] = styleAttributes[key];\n",
              "  }\n",
              "  return element;\n",
              "}\n",
              "\n",
              "// Max number of bytes which will be uploaded at a time.\n",
              "const MAX_PAYLOAD_SIZE = 100 * 1024;\n",
              "\n",
              "function _uploadFiles(inputId, outputId) {\n",
              "  const steps = uploadFilesStep(inputId, outputId);\n",
              "  const outputElement = document.getElementById(outputId);\n",
              "  // Cache steps on the outputElement to make it available for the next call\n",
              "  // to uploadFilesContinue from Python.\n",
              "  outputElement.steps = steps;\n",
              "\n",
              "  return _uploadFilesContinue(outputId);\n",
              "}\n",
              "\n",
              "// This is roughly an async generator (not supported in the browser yet),\n",
              "// where there are multiple asynchronous steps and the Python side is going\n",
              "// to poll for completion of each step.\n",
              "// This uses a Promise to block the python side on completion of each step,\n",
              "// then passes the result of the previous step as the input to the next step.\n",
              "function _uploadFilesContinue(outputId) {\n",
              "  const outputElement = document.getElementById(outputId);\n",
              "  const steps = outputElement.steps;\n",
              "\n",
              "  const next = steps.next(outputElement.lastPromiseValue);\n",
              "  return Promise.resolve(next.value.promise).then((value) => {\n",
              "    // Cache the last promise value to make it available to the next\n",
              "    // step of the generator.\n",
              "    outputElement.lastPromiseValue = value;\n",
              "    return next.value.response;\n",
              "  });\n",
              "}\n",
              "\n",
              "/**\n",
              " * Generator function which is called between each async step of the upload\n",
              " * process.\n",
              " * @param {string} inputId Element ID of the input file picker element.\n",
              " * @param {string} outputId Element ID of the output display.\n",
              " * @return {!Iterable<!Object>} Iterable of next steps.\n",
              " */\n",
              "function* uploadFilesStep(inputId, outputId) {\n",
              "  const inputElement = document.getElementById(inputId);\n",
              "  inputElement.disabled = false;\n",
              "\n",
              "  const outputElement = document.getElementById(outputId);\n",
              "  outputElement.innerHTML = '';\n",
              "\n",
              "  const pickedPromise = new Promise((resolve) => {\n",
              "    inputElement.addEventListener('change', (e) => {\n",
              "      resolve(e.target.files);\n",
              "    });\n",
              "  });\n",
              "\n",
              "  const cancel = document.createElement('button');\n",
              "  inputElement.parentElement.appendChild(cancel);\n",
              "  cancel.textContent = 'Cancel upload';\n",
              "  const cancelPromise = new Promise((resolve) => {\n",
              "    cancel.onclick = () => {\n",
              "      resolve(null);\n",
              "    };\n",
              "  });\n",
              "\n",
              "  // Wait for the user to pick the files.\n",
              "  const files = yield {\n",
              "    promise: Promise.race([pickedPromise, cancelPromise]),\n",
              "    response: {\n",
              "      action: 'starting',\n",
              "    }\n",
              "  };\n",
              "\n",
              "  cancel.remove();\n",
              "\n",
              "  // Disable the input element since further picks are not allowed.\n",
              "  inputElement.disabled = true;\n",
              "\n",
              "  if (!files) {\n",
              "    return {\n",
              "      response: {\n",
              "        action: 'complete',\n",
              "      }\n",
              "    };\n",
              "  }\n",
              "\n",
              "  for (const file of files) {\n",
              "    const li = document.createElement('li');\n",
              "    li.append(span(file.name, {fontWeight: 'bold'}));\n",
              "    li.append(span(\n",
              "        `(${file.type || 'n/a'}) - ${file.size} bytes, ` +\n",
              "        `last modified: ${\n",
              "            file.lastModifiedDate ? file.lastModifiedDate.toLocaleDateString() :\n",
              "                                    'n/a'} - `));\n",
              "    const percent = span('0% done');\n",
              "    li.appendChild(percent);\n",
              "\n",
              "    outputElement.appendChild(li);\n",
              "\n",
              "    const fileDataPromise = new Promise((resolve) => {\n",
              "      const reader = new FileReader();\n",
              "      reader.onload = (e) => {\n",
              "        resolve(e.target.result);\n",
              "      };\n",
              "      reader.readAsArrayBuffer(file);\n",
              "    });\n",
              "    // Wait for the data to be ready.\n",
              "    let fileData = yield {\n",
              "      promise: fileDataPromise,\n",
              "      response: {\n",
              "        action: 'continue',\n",
              "      }\n",
              "    };\n",
              "\n",
              "    // Use a chunked sending to avoid message size limits. See b/62115660.\n",
              "    let position = 0;\n",
              "    do {\n",
              "      const length = Math.min(fileData.byteLength - position, MAX_PAYLOAD_SIZE);\n",
              "      const chunk = new Uint8Array(fileData, position, length);\n",
              "      position += length;\n",
              "\n",
              "      const base64 = btoa(String.fromCharCode.apply(null, chunk));\n",
              "      yield {\n",
              "        response: {\n",
              "          action: 'append',\n",
              "          file: file.name,\n",
              "          data: base64,\n",
              "        },\n",
              "      };\n",
              "\n",
              "      let percentDone = fileData.byteLength === 0 ?\n",
              "          100 :\n",
              "          Math.round((position / fileData.byteLength) * 100);\n",
              "      percent.textContent = `${percentDone}% done`;\n",
              "\n",
              "    } while (position < fileData.byteLength);\n",
              "  }\n",
              "\n",
              "  // All done.\n",
              "  yield {\n",
              "    response: {\n",
              "      action: 'complete',\n",
              "    }\n",
              "  };\n",
              "}\n",
              "\n",
              "scope.google = scope.google || {};\n",
              "scope.google.colab = scope.google.colab || {};\n",
              "scope.google.colab._files = {\n",
              "  _uploadFiles,\n",
              "  _uploadFilesContinue,\n",
              "};\n",
              "})(self);\n",
              "</script> "
            ]
          },
          "metadata": {}
        },
        {
          "output_type": "stream",
          "name": "stdout",
          "text": [
            "Saving kaggle (3).json to kaggle (3).json\n"
          ]
        },
        {
          "output_type": "execute_result",
          "data": {
            "text/plain": [
              "{'kaggle (3).json': b'{\"username\":\"melanierefman\",\"key\":\"ce0211165e67e656e93a08a36a7acd09\"}'}"
            ]
          },
          "metadata": {},
          "execution_count": 1
        }
      ]
    },
    {
      "cell_type": "code",
      "source": [
        "# Mengonfigurasi Kaggle API di lingkungan Colab\n",
        "!mkdir -p ~/.kaggle\n",
        "!cp kaggle.json ~/.kaggle/\n",
        "!chmod 600 /root/.kaggle/kaggle.json"
      ],
      "metadata": {
        "colab": {
          "base_uri": "https://localhost:8080/"
        },
        "id": "ApkmjXc2r-Fc",
        "outputId": "f7a733a1-42cf-42aa-c646-d7037b1d784c"
      },
      "execution_count": null,
      "outputs": [
        {
          "output_type": "stream",
          "name": "stdout",
          "text": [
            "cp: cannot stat 'kaggle.json': No such file or directory\n",
            "chmod: cannot access '/root/.kaggle/kaggle.json': No such file or directory\n"
          ]
        }
      ]
    },
    {
      "cell_type": "code",
      "source": [
        "# Mengunduh dataset dari Kaggle menggunakan Kaggle API\n",
        "!kaggle datasets download -d thedevastator/weather-prediction"
      ],
      "metadata": {
        "colab": {
          "base_uri": "https://localhost:8080/"
        },
        "id": "9IpX-zWMsAZH",
        "outputId": "78bdd118-f0de-4bba-e303-8f5c01c7b63a"
      },
      "execution_count": null,
      "outputs": [
        {
          "output_type": "stream",
          "name": "stdout",
          "text": [
            "Dataset URL: https://www.kaggle.com/datasets/thedevastator/weather-prediction\n",
            "License(s): other\n",
            "Downloading weather-prediction.zip to /content\n",
            "  0% 0.00/936k [00:00<?, ?B/s]\n",
            "100% 936k/936k [00:00<00:00, 123MB/s]\n"
          ]
        }
      ]
    },
    {
      "cell_type": "code",
      "source": [
        "from zipfile import ZipFile\n",
        "\n",
        "# Mengekstrak file zip\n",
        "file_name = \"/content/weather-prediction.zip\"\n",
        "with ZipFile(file_name,'r') as zip:\n",
        "  zip.extractall()\n",
        "  print('Extraction Completed')"
      ],
      "metadata": {
        "colab": {
          "base_uri": "https://localhost:8080/"
        },
        "id": "0Gw6g94ug1sl",
        "outputId": "ecb31e15-9e99-4104-fc51-de12ea1da793"
      },
      "execution_count": null,
      "outputs": [
        {
          "output_type": "stream",
          "name": "stdout",
          "text": [
            "Extraction Completed\n"
          ]
        }
      ]
    },
    {
      "cell_type": "markdown",
      "source": [
        "## **Import Library**"
      ],
      "metadata": {
        "id": "fhEPycNJ8egt"
      }
    },
    {
      "cell_type": "markdown",
      "source": [
        "Pada bagian ini, dilakukan import berbagai library yang akan digunakan dalam proses pengolahan data, eksplorasi, pemodelan, hingga evaluasi model."
      ],
      "metadata": {
        "id": "AvRyFZttvc85"
      }
    },
    {
      "cell_type": "code",
      "source": [
        "# Import Library\n",
        "import numpy as np\n",
        "import pandas as pd\n",
        "import tensorflow as tf\n",
        "\n",
        "from sklearn.model_selection import train_test_split\n",
        "from sklearn.ensemble import RandomForestRegressor, GradientBoostingRegressor\n",
        "from sklearn.preprocessing import MinMaxScaler\n",
        "from sklearn.metrics import mean_absolute_error, mean_squared_error, r2_score\n",
        "from tensorflow.keras.models import Sequential\n",
        "from tensorflow.keras.layers import Dense, LSTM, Dropout"
      ],
      "metadata": {
        "id": "A7tB8uka8hEg"
      },
      "execution_count": null,
      "outputs": []
    },
    {
      "cell_type": "markdown",
      "source": [
        "*   NumPy dan Pandas: Untuk manipulasi data dan operasi numerik.\n",
        "*   Scikit-learn: Untuk preprocessing data, pemodelan, dan evaluasi model.\n",
        "*   TensorFlow dan Keras: Untuk membangun dan melatih model RNN.\n"
      ],
      "metadata": {
        "id": "WZN9zuj7vdqJ"
      }
    },
    {
      "cell_type": "markdown",
      "source": [
        "## **Eksplorasi Awal Dataset**"
      ],
      "metadata": {
        "id": "21f14lxWh8ak"
      }
    },
    {
      "cell_type": "markdown",
      "source": [
        "Dataset dimuat dari file CSV bernama weather_prediction_dataset.csv menggunakan Pandas."
      ],
      "metadata": {
        "id": "yyXMfzylvrKF"
      }
    },
    {
      "cell_type": "code",
      "source": [
        "# Path dataset\n",
        "dataset = \"weather_prediction_dataset.csv\"\n",
        "df = pd.read_csv(dataset)"
      ],
      "metadata": {
        "id": "KZrxxIB7gTGG"
      },
      "execution_count": null,
      "outputs": []
    },
    {
      "cell_type": "markdown",
      "source": [
        "Ditampilkan bentuk dataset (jumlah baris dan kolom)."
      ],
      "metadata": {
        "id": "aO4rGzkQvw-s"
      }
    },
    {
      "cell_type": "code",
      "source": [
        "print(\"Dataset Shape:\", data.shape)"
      ],
      "metadata": {
        "colab": {
          "base_uri": "https://localhost:8080/"
        },
        "id": "b3-3uQjzJxqm",
        "outputId": "bda59320-0dfb-4e14-8ad5-957f3d28123f"
      },
      "execution_count": null,
      "outputs": [
        {
          "output_type": "stream",
          "name": "stdout",
          "text": [
            "Dataset Shape: (3654, 165)\n"
          ]
        }
      ]
    },
    {
      "cell_type": "markdown",
      "source": [
        "Diperlihatkan beberapa baris pertama dataset untuk mengetahui gambaran awal data."
      ],
      "metadata": {
        "id": "1s7eoiACv1KY"
      }
    },
    {
      "cell_type": "code",
      "source": [
        "# Tampilkan beberapa baris awal\n",
        "print(\"Preview dataset:\")\n",
        "print(df.head())"
      ],
      "metadata": {
        "colab": {
          "base_uri": "https://localhost:8080/"
        },
        "id": "slsdLvd2tJEp",
        "outputId": "607aa246-aa4e-40ea-fe9b-53ecabdff9d6"
      },
      "execution_count": null,
      "outputs": [
        {
          "output_type": "stream",
          "name": "stdout",
          "text": [
            "Preview dataset:\n",
            "       DATE  MONTH  BASEL_cloud_cover  BASEL_humidity  BASEL_pressure  \\\n",
            "0  20000101      1                  8            0.89          1.0286   \n",
            "1  20000102      1                  8            0.87          1.0318   \n",
            "2  20000103      1                  5            0.81          1.0314   \n",
            "3  20000104      1                  7            0.79          1.0262   \n",
            "4  20000105      1                  5            0.90          1.0246   \n",
            "\n",
            "   BASEL_global_radiation  BASEL_precipitation  BASEL_sunshine  \\\n",
            "0                    0.20                 0.03             0.0   \n",
            "1                    0.25                 0.00             0.0   \n",
            "2                    0.50                 0.00             3.7   \n",
            "3                    0.63                 0.35             6.9   \n",
            "4                    0.51                 0.07             3.7   \n",
            "\n",
            "   BASEL_temp_mean  BASEL_temp_min  ...  STOCKHOLM_temp_min  \\\n",
            "0              2.9             1.6  ...                -9.3   \n",
            "1              3.6             2.7  ...                 0.5   \n",
            "2              2.2             0.1  ...                -1.0   \n",
            "3              3.9             0.5  ...                 2.5   \n",
            "4              6.0             3.8  ...                -1.8   \n",
            "\n",
            "   STOCKHOLM_temp_max  TOURS_wind_speed  TOURS_humidity  TOURS_pressure  \\\n",
            "0                 0.7               1.6            0.97          1.0275   \n",
            "1                 2.0               2.0            0.99          1.0293   \n",
            "2                 2.8               3.4            0.91          1.0267   \n",
            "3                 4.6               4.9            0.95          1.0222   \n",
            "4                 2.9               3.6            0.95          1.0209   \n",
            "\n",
            "   TOURS_global_radiation  TOURS_precipitation  TOURS_temp_mean  \\\n",
            "0                    0.25                 0.04              8.5   \n",
            "1                    0.17                 0.16              7.9   \n",
            "2                    0.27                 0.00              8.1   \n",
            "3                    0.11                 0.44              8.6   \n",
            "4                    0.39                 0.04              8.0   \n",
            "\n",
            "   TOURS_temp_min  TOURS_temp_max  \n",
            "0             7.2             9.8  \n",
            "1             6.6             9.2  \n",
            "2             6.6             9.6  \n",
            "3             6.4            10.8  \n",
            "4             6.4             9.5  \n",
            "\n",
            "[5 rows x 165 columns]\n"
          ]
        }
      ]
    },
    {
      "cell_type": "markdown",
      "source": [
        "Informasi mengenai dataset seperti tipe data dan jumlah nilai yang tersedia."
      ],
      "metadata": {
        "id": "l1c45lDMv4fw"
      }
    },
    {
      "cell_type": "code",
      "source": [
        "# Informasi dataset\n",
        "print(\"\\nInformasi dataset:\")\n",
        "print(df.info())"
      ],
      "metadata": {
        "colab": {
          "base_uri": "https://localhost:8080/"
        },
        "id": "ePPsOuLXtLdu",
        "outputId": "f7d9c8b3-4d55-493c-c33d-919d934b7a69"
      },
      "execution_count": null,
      "outputs": [
        {
          "output_type": "stream",
          "name": "stdout",
          "text": [
            "\n",
            "Informasi dataset:\n",
            "<class 'pandas.core.frame.DataFrame'>\n",
            "RangeIndex: 3654 entries, 0 to 3653\n",
            "Columns: 165 entries, DATE to TOURS_temp_max\n",
            "dtypes: float64(150), int64(15)\n",
            "memory usage: 4.6 MB\n",
            "None\n"
          ]
        }
      ]
    },
    {
      "cell_type": "markdown",
      "source": [
        "#### **Memeriksa Data yang Hilang**"
      ],
      "metadata": {
        "id": "BBBq6JHewfXg"
      }
    },
    {
      "cell_type": "markdown",
      "source": [
        "Pada tahap ini, diperiksa jumlah nilai yang hilang (missing values) di setiap kolom dataset. Hal ini penting untuk mengetahui kualitas data dan menentukan apakah perlu dilakukan penanganan missing values."
      ],
      "metadata": {
        "id": "G6eovH0fv61j"
      }
    },
    {
      "cell_type": "code",
      "source": [
        "# Cek missing values\n",
        "missing_values = df.isnull().sum()\n",
        "print(\"\\nNilai hilang di setiap kolom:\")\n",
        "print(missing_values)"
      ],
      "metadata": {
        "colab": {
          "base_uri": "https://localhost:8080/"
        },
        "id": "fOnrRx4-tR0L",
        "outputId": "6ef91784-830c-42ce-82c8-ca27c3b40056"
      },
      "execution_count": null,
      "outputs": [
        {
          "output_type": "stream",
          "name": "stdout",
          "text": [
            "\n",
            "Nilai hilang di setiap kolom:\n",
            "DATE                      0\n",
            "MONTH                     0\n",
            "BASEL_cloud_cover         0\n",
            "BASEL_humidity            0\n",
            "BASEL_pressure            0\n",
            "                         ..\n",
            "TOURS_global_radiation    0\n",
            "TOURS_precipitation       0\n",
            "TOURS_temp_mean           0\n",
            "TOURS_temp_min            0\n",
            "TOURS_temp_max            0\n",
            "Length: 165, dtype: int64\n"
          ]
        }
      ]
    },
    {
      "cell_type": "markdown",
      "source": [
        "## **Data Preparation**\n",
        "\n"
      ],
      "metadata": {
        "id": "mcwx-BDib23u"
      }
    },
    {
      "cell_type": "markdown",
      "source": [
        "#### **Data Preprocessing dan Augmentasi**"
      ],
      "metadata": {
        "id": "TQEB5VU8v7fy"
      }
    },
    {
      "cell_type": "markdown",
      "source": [
        "Dilakukan transformasi data menggunakan MinMaxScaler untuk menormalkan data ke dalam rentang 0-1. Ini bertujuan agar algoritma machine learning bekerja lebih optimal."
      ],
      "metadata": {
        "id": "mszSYA3Nv9_Y"
      }
    },
    {
      "cell_type": "code",
      "source": [
        "# Data Transformation\n",
        "scaler = MinMaxScaler()\n",
        "data_scaled = pd.DataFrame(scaler.fit_transform(df), columns=df.columns)\n",
        "\n",
        "# Assuming 'TG' (mean temperature) as the target variable\n",
        "X = data_scaled.drop(columns=['BASEL_temp_mean'])\n",
        "y = data_scaled['BASEL_temp_mean']\n",
        "\n",
        "# Splitting into Train, Validation, and Test Sets\n",
        "X_train, X_temp, y_train, y_temp = train_test_split(X, y, test_size=0.3, random_state=42)\n",
        "X_val, X_test, y_val, y_test = train_test_split(X_temp, y_temp, test_size=0.5, random_state=42)"
      ],
      "metadata": {
        "id": "xEQUGMq7tvPm"
      },
      "execution_count": null,
      "outputs": []
    },
    {
      "cell_type": "markdown",
      "source": [
        "Kolom target (BASEL_temp_mean) dipisahkan dari dataset, sementara kolom lainnya dijadikan fitur (X).\n",
        "\n",
        "Dataset kemudian dibagi menjadi tiga bagian:\n",
        "* Training set (70%) untuk melatih model.\n",
        "* Validation set (15%) untuk mengevaluasi performa selama training.\n",
        "* Test set (15%) untuk mengevaluasi performa akhir model pada data yang tidak dilihat sebelumnya."
      ],
      "metadata": {
        "id": "0PDEZheDv_u1"
      }
    },
    {
      "cell_type": "markdown",
      "source": [
        "## **Modeling**"
      ],
      "metadata": {
        "id": "pt3xkDiXb46u"
      }
    },
    {
      "cell_type": "markdown",
      "source": [
        "#### **Random Forest Regressor:**"
      ],
      "metadata": {
        "id": "w5ZdIsfS_OYC"
      }
    },
    {
      "cell_type": "markdown",
      "source": [
        "Model Random Forest Regressor digunakan sebagai baseline. Model ini dilatih pada data training dan menghasilkan prediksi pada data test."
      ],
      "metadata": {
        "id": "CdK3TNrYwGKW"
      }
    },
    {
      "cell_type": "code",
      "source": [
        "# Random Forest Regressor\n",
        "rf_model = RandomForestRegressor(random_state=42)\n",
        "rf_model.fit(X_train, y_train)\n",
        "rf_preds = rf_model.predict(X_test)"
      ],
      "metadata": {
        "id": "tKQHdqZ4m8Bq"
      },
      "execution_count": null,
      "outputs": []
    },
    {
      "cell_type": "markdown",
      "source": [
        "#### **Gradient Boosting Regressor:**"
      ],
      "metadata": {
        "id": "US69WVItm6S5"
      }
    },
    {
      "cell_type": "markdown",
      "source": [
        "Gradient Boosting Regressor diterapkan sebagai model machine learning berbasis boosting. Model ini juga dilatih pada data training dan dievaluasi dengan data test."
      ],
      "metadata": {
        "id": "PgLkYUgywHYU"
      }
    },
    {
      "cell_type": "code",
      "source": [
        "# Gradient Boosting Regressor\n",
        "gb_model = GradientBoostingRegressor(random_state=42)\n",
        "gb_model.fit(X_train, y_train)\n",
        "gb_preds = gb_model.predict(X_test)"
      ],
      "metadata": {
        "id": "rdypnvlDm8dF"
      },
      "execution_count": null,
      "outputs": []
    },
    {
      "cell_type": "markdown",
      "source": [
        "#### **Recurrent Neural Network (RNN):**"
      ],
      "metadata": {
        "id": "Wh73XYLJKxmS"
      }
    },
    {
      "cell_type": "markdown",
      "source": [
        "Model RNN dibuat menggunakan arsitektur LSTM untuk menangkap pola data sekuensial (time series).\n",
        "\n",
        "Arsitektur model:\n",
        "* LSTM layer dengan 50 unit dan dropout untuk mencegah overfitting.\n",
        "* Dense layer untuk memprediksi nilai target.\n",
        "\n",
        "Preprocessing tambahan: Data fitur (X) diubah menjadi tiga dimensi agar sesuai dengan input LSTM.\n",
        "\n",
        "Model dilatih menggunakan adam optimizer dengan fungsi loss Mean Squared Error (MSE)."
      ],
      "metadata": {
        "id": "kEn9uQ5awIiT"
      }
    },
    {
      "cell_type": "code",
      "source": [
        "# RNN\n",
        "rnn_model = Sequential([\n",
        "    LSTM(50, activation='relu', input_shape=(X_train.shape[1], 1), return_sequences=True),\n",
        "    Dropout(0.2),\n",
        "    LSTM(50, activation='relu'),\n",
        "    Dropout(0.2),\n",
        "    Dense(1)\n",
        "])\n",
        "rnn_model.compile(optimizer='adam', loss='mse')\n",
        "\n",
        "# Reshape data for RNN\n",
        "X_train_rnn = np.expand_dims(X_train.values, axis=2)\n",
        "X_val_rnn = np.expand_dims(X_val.values, axis=2)\n",
        "X_test_rnn = np.expand_dims(X_test.values, axis=2)\n",
        "\n",
        "# Training the RNN\n",
        "rnn_model.fit(X_train_rnn, y_train, validation_data=(X_val_rnn, y_val), epochs=50, batch_size=32)\n",
        "rnn_preds = rnn_model.predict(X_test_rnn)"
      ],
      "metadata": {
        "colab": {
          "base_uri": "https://localhost:8080/"
        },
        "id": "Fi1oBIz4Kx-L",
        "outputId": "401171e5-3ce8-4370-943a-5fde43d47472"
      },
      "execution_count": null,
      "outputs": [
        {
          "output_type": "stream",
          "name": "stdout",
          "text": [
            "Epoch 1/50\n"
          ]
        },
        {
          "output_type": "stream",
          "name": "stderr",
          "text": [
            "/usr/local/lib/python3.10/dist-packages/keras/src/layers/rnn/rnn.py:204: UserWarning: Do not pass an `input_shape`/`input_dim` argument to a layer. When using Sequential models, prefer using an `Input(shape)` object as the first layer in the model instead.\n",
            "  super().__init__(**kwargs)\n"
          ]
        },
        {
          "output_type": "stream",
          "name": "stdout",
          "text": [
            "\u001b[1m80/80\u001b[0m \u001b[32m━━━━━━━━━━━━━━━━━━━━\u001b[0m\u001b[37m\u001b[0m \u001b[1m16s\u001b[0m 149ms/step - loss: 0.1144 - val_loss: 0.0116\n",
            "Epoch 2/50\n",
            "\u001b[1m80/80\u001b[0m \u001b[32m━━━━━━━━━━━━━━━━━━━━\u001b[0m\u001b[37m\u001b[0m \u001b[1m23s\u001b[0m 290ms/step - loss: 0.0159 - val_loss: 0.0063\n",
            "Epoch 3/50\n",
            "\u001b[1m80/80\u001b[0m \u001b[32m━━━━━━━━━━━━━━━━━━━━\u001b[0m\u001b[37m\u001b[0m \u001b[1m23s\u001b[0m 288ms/step - loss: 0.0120 - val_loss: 0.0055\n",
            "Epoch 4/50\n",
            "\u001b[1m80/80\u001b[0m \u001b[32m━━━━━━━━━━━━━━━━━━━━\u001b[0m\u001b[37m\u001b[0m \u001b[1m33s\u001b[0m 190ms/step - loss: 0.0099 - val_loss: 0.0052\n",
            "Epoch 5/50\n",
            "\u001b[1m80/80\u001b[0m \u001b[32m━━━━━━━━━━━━━━━━━━━━\u001b[0m\u001b[37m\u001b[0m \u001b[1m17s\u001b[0m 144ms/step - loss: 0.0090 - val_loss: 0.0057\n",
            "Epoch 6/50\n",
            "\u001b[1m80/80\u001b[0m \u001b[32m━━━━━━━━━━━━━━━━━━━━\u001b[0m\u001b[37m\u001b[0m \u001b[1m14s\u001b[0m 169ms/step - loss: 0.0089 - val_loss: 0.0050\n",
            "Epoch 7/50\n",
            "\u001b[1m80/80\u001b[0m \u001b[32m━━━━━━━━━━━━━━━━━━━━\u001b[0m\u001b[37m\u001b[0m \u001b[1m19s\u001b[0m 157ms/step - loss: 0.0091 - val_loss: 0.0048\n",
            "Epoch 8/50\n",
            "\u001b[1m80/80\u001b[0m \u001b[32m━━━━━━━━━━━━━━━━━━━━\u001b[0m\u001b[37m\u001b[0m \u001b[1m12s\u001b[0m 149ms/step - loss: 0.0094 - val_loss: 0.0047\n",
            "Epoch 9/50\n",
            "\u001b[1m80/80\u001b[0m \u001b[32m━━━━━━━━━━━━━━━━━━━━\u001b[0m\u001b[37m\u001b[0m \u001b[1m21s\u001b[0m 158ms/step - loss: 0.0077 - val_loss: 0.0057\n",
            "Epoch 10/50\n",
            "\u001b[1m80/80\u001b[0m \u001b[32m━━━━━━━━━━━━━━━━━━━━\u001b[0m\u001b[37m\u001b[0m \u001b[1m20s\u001b[0m 157ms/step - loss: 0.0079 - val_loss: 0.0042\n",
            "Epoch 11/50\n",
            "\u001b[1m80/80\u001b[0m \u001b[32m━━━━━━━━━━━━━━━━━━━━\u001b[0m\u001b[37m\u001b[0m \u001b[1m20s\u001b[0m 156ms/step - loss: 0.0072 - val_loss: 0.0046\n",
            "Epoch 12/50\n",
            "\u001b[1m80/80\u001b[0m \u001b[32m━━━━━━━━━━━━━━━━━━━━\u001b[0m\u001b[37m\u001b[0m \u001b[1m20s\u001b[0m 155ms/step - loss: 0.0079 - val_loss: 0.0035\n",
            "Epoch 13/50\n",
            "\u001b[1m80/80\u001b[0m \u001b[32m━━━━━━━━━━━━━━━━━━━━\u001b[0m\u001b[37m\u001b[0m \u001b[1m21s\u001b[0m 157ms/step - loss: 0.0067 - val_loss: 0.0034\n",
            "Epoch 14/50\n",
            "\u001b[1m80/80\u001b[0m \u001b[32m━━━━━━━━━━━━━━━━━━━━\u001b[0m\u001b[37m\u001b[0m \u001b[1m20s\u001b[0m 155ms/step - loss: 0.0062 - val_loss: 0.0037\n",
            "Epoch 15/50\n",
            "\u001b[1m80/80\u001b[0m \u001b[32m━━━━━━━━━━━━━━━━━━━━\u001b[0m\u001b[37m\u001b[0m \u001b[1m20s\u001b[0m 153ms/step - loss: 0.0063 - val_loss: 0.0044\n",
            "Epoch 16/50\n",
            "\u001b[1m80/80\u001b[0m \u001b[32m━━━━━━━━━━━━━━━━━━━━\u001b[0m\u001b[37m\u001b[0m \u001b[1m20s\u001b[0m 149ms/step - loss: 0.0062 - val_loss: 0.0034\n",
            "Epoch 17/50\n",
            "\u001b[1m80/80\u001b[0m \u001b[32m━━━━━━━━━━━━━━━━━━━━\u001b[0m\u001b[37m\u001b[0m \u001b[1m14s\u001b[0m 181ms/step - loss: 0.0060 - val_loss: 0.0040\n",
            "Epoch 18/50\n",
            "\u001b[1m80/80\u001b[0m \u001b[32m━━━━━━━━━━━━━━━━━━━━\u001b[0m\u001b[37m\u001b[0m \u001b[1m18s\u001b[0m 149ms/step - loss: 0.0061 - val_loss: 0.0048\n",
            "Epoch 19/50\n",
            "\u001b[1m80/80\u001b[0m \u001b[32m━━━━━━━━━━━━━━━━━━━━\u001b[0m\u001b[37m\u001b[0m \u001b[1m21s\u001b[0m 155ms/step - loss: 0.0060 - val_loss: 0.0042\n",
            "Epoch 20/50\n",
            "\u001b[1m80/80\u001b[0m \u001b[32m━━━━━━━━━━━━━━━━━━━━\u001b[0m\u001b[37m\u001b[0m \u001b[1m20s\u001b[0m 143ms/step - loss: 0.0055 - val_loss: 0.0032\n",
            "Epoch 21/50\n",
            "\u001b[1m80/80\u001b[0m \u001b[32m━━━━━━━━━━━━━━━━━━━━\u001b[0m\u001b[37m\u001b[0m \u001b[1m21s\u001b[0m 154ms/step - loss: 0.0067 - val_loss: 0.0038\n",
            "Epoch 22/50\n",
            "\u001b[1m80/80\u001b[0m \u001b[32m━━━━━━━━━━━━━━━━━━━━\u001b[0m\u001b[37m\u001b[0m \u001b[1m13s\u001b[0m 158ms/step - loss: 0.0054 - val_loss: 0.0033\n",
            "Epoch 23/50\n",
            "\u001b[1m80/80\u001b[0m \u001b[32m━━━━━━━━━━━━━━━━━━━━\u001b[0m\u001b[37m\u001b[0m \u001b[1m19s\u001b[0m 143ms/step - loss: 0.0058 - val_loss: 0.0031\n",
            "Epoch 24/50\n",
            "\u001b[1m80/80\u001b[0m \u001b[32m━━━━━━━━━━━━━━━━━━━━\u001b[0m\u001b[37m\u001b[0m \u001b[1m21s\u001b[0m 154ms/step - loss: 0.0053 - val_loss: 0.0039\n",
            "Epoch 25/50\n",
            "\u001b[1m80/80\u001b[0m \u001b[32m━━━━━━━━━━━━━━━━━━━━\u001b[0m\u001b[37m\u001b[0m \u001b[1m21s\u001b[0m 155ms/step - loss: 0.0055 - val_loss: 0.0032\n",
            "Epoch 26/50\n",
            "\u001b[1m80/80\u001b[0m \u001b[32m━━━━━━━━━━━━━━━━━━━━\u001b[0m\u001b[37m\u001b[0m \u001b[1m21s\u001b[0m 156ms/step - loss: 0.0053 - val_loss: 0.0031\n",
            "Epoch 27/50\n",
            "\u001b[1m80/80\u001b[0m \u001b[32m━━━━━━━━━━━━━━━━━━━━\u001b[0m\u001b[37m\u001b[0m \u001b[1m12s\u001b[0m 156ms/step - loss: 0.0054 - val_loss: 0.0035\n",
            "Epoch 28/50\n",
            "\u001b[1m80/80\u001b[0m \u001b[32m━━━━━━━━━━━━━━━━━━━━\u001b[0m\u001b[37m\u001b[0m \u001b[1m20s\u001b[0m 152ms/step - loss: 0.0052 - val_loss: 0.0031\n",
            "Epoch 29/50\n",
            "\u001b[1m80/80\u001b[0m \u001b[32m━━━━━━━━━━━━━━━━━━━━\u001b[0m\u001b[37m\u001b[0m \u001b[1m22s\u001b[0m 175ms/step - loss: 0.0051 - val_loss: 0.0031\n",
            "Epoch 30/50\n",
            "\u001b[1m80/80\u001b[0m \u001b[32m━━━━━━━━━━━━━━━━━━━━\u001b[0m\u001b[37m\u001b[0m \u001b[1m12s\u001b[0m 155ms/step - loss: 0.0053 - val_loss: 0.0030\n",
            "Epoch 31/50\n",
            "\u001b[1m80/80\u001b[0m \u001b[32m━━━━━━━━━━━━━━━━━━━━\u001b[0m\u001b[37m\u001b[0m \u001b[1m12s\u001b[0m 155ms/step - loss: 0.0047 - val_loss: 0.0030\n",
            "Epoch 32/50\n",
            "\u001b[1m80/80\u001b[0m \u001b[32m━━━━━━━━━━━━━━━━━━━━\u001b[0m\u001b[37m\u001b[0m \u001b[1m20s\u001b[0m 142ms/step - loss: 0.0046 - val_loss: 0.0027\n",
            "Epoch 33/50\n",
            "\u001b[1m80/80\u001b[0m \u001b[32m━━━━━━━━━━━━━━━━━━━━\u001b[0m\u001b[37m\u001b[0m \u001b[1m21s\u001b[0m 152ms/step - loss: 0.0048 - val_loss: 0.0030\n",
            "Epoch 34/50\n",
            "\u001b[1m80/80\u001b[0m \u001b[32m━━━━━━━━━━━━━━━━━━━━\u001b[0m\u001b[37m\u001b[0m \u001b[1m12s\u001b[0m 151ms/step - loss: 0.0047 - val_loss: 0.0029\n",
            "Epoch 35/50\n",
            "\u001b[1m80/80\u001b[0m \u001b[32m━━━━━━━━━━━━━━━━━━━━\u001b[0m\u001b[37m\u001b[0m \u001b[1m20s\u001b[0m 140ms/step - loss: 0.0050 - val_loss: 0.0027\n",
            "Epoch 36/50\n",
            "\u001b[1m80/80\u001b[0m \u001b[32m━━━━━━━━━━━━━━━━━━━━\u001b[0m\u001b[37m\u001b[0m \u001b[1m22s\u001b[0m 157ms/step - loss: 0.0043 - val_loss: 0.0027\n",
            "Epoch 37/50\n",
            "\u001b[1m80/80\u001b[0m \u001b[32m━━━━━━━━━━━━━━━━━━━━\u001b[0m\u001b[37m\u001b[0m \u001b[1m12s\u001b[0m 155ms/step - loss: 0.0051 - val_loss: 0.0028\n",
            "Epoch 38/50\n",
            "\u001b[1m80/80\u001b[0m \u001b[32m━━━━━━━━━━━━━━━━━━━━\u001b[0m\u001b[37m\u001b[0m \u001b[1m19s\u001b[0m 143ms/step - loss: 0.0043 - val_loss: 0.0031\n",
            "Epoch 39/50\n",
            "\u001b[1m80/80\u001b[0m \u001b[32m━━━━━━━━━━━━━━━━━━━━\u001b[0m\u001b[37m\u001b[0m \u001b[1m12s\u001b[0m 145ms/step - loss: 0.0042 - val_loss: 0.0028\n",
            "Epoch 40/50\n",
            "\u001b[1m80/80\u001b[0m \u001b[32m━━━━━━━━━━━━━━━━━━━━\u001b[0m\u001b[37m\u001b[0m \u001b[1m21s\u001b[0m 154ms/step - loss: 0.0041 - val_loss: 0.0026\n",
            "Epoch 41/50\n",
            "\u001b[1m80/80\u001b[0m \u001b[32m━━━━━━━━━━━━━━━━━━━━\u001b[0m\u001b[37m\u001b[0m \u001b[1m20s\u001b[0m 143ms/step - loss: 0.0042 - val_loss: 0.0026\n",
            "Epoch 42/50\n",
            "\u001b[1m80/80\u001b[0m \u001b[32m━━━━━━━━━━━━━━━━━━━━\u001b[0m\u001b[37m\u001b[0m \u001b[1m21s\u001b[0m 156ms/step - loss: 0.0042 - val_loss: 0.0029\n",
            "Epoch 43/50\n",
            "\u001b[1m80/80\u001b[0m \u001b[32m━━━━━━━━━━━━━━━━━━━━\u001b[0m\u001b[37m\u001b[0m \u001b[1m20s\u001b[0m 155ms/step - loss: 0.0039 - val_loss: 0.0028\n",
            "Epoch 44/50\n",
            "\u001b[1m80/80\u001b[0m \u001b[32m━━━━━━━━━━━━━━━━━━━━\u001b[0m\u001b[37m\u001b[0m \u001b[1m12s\u001b[0m 151ms/step - loss: 0.0043 - val_loss: 0.0029\n",
            "Epoch 45/50\n",
            "\u001b[1m80/80\u001b[0m \u001b[32m━━━━━━━━━━━━━━━━━━━━\u001b[0m\u001b[37m\u001b[0m \u001b[1m21s\u001b[0m 152ms/step - loss: 0.0042 - val_loss: 0.0025\n",
            "Epoch 46/50\n",
            "\u001b[1m80/80\u001b[0m \u001b[32m━━━━━━━━━━━━━━━━━━━━\u001b[0m\u001b[37m\u001b[0m \u001b[1m21s\u001b[0m 156ms/step - loss: 0.0039 - val_loss: 0.0026\n",
            "Epoch 47/50\n",
            "\u001b[1m80/80\u001b[0m \u001b[32m━━━━━━━━━━━━━━━━━━━━\u001b[0m\u001b[37m\u001b[0m \u001b[1m12s\u001b[0m 152ms/step - loss: 0.0040 - val_loss: 0.0027\n",
            "Epoch 48/50\n",
            "\u001b[1m80/80\u001b[0m \u001b[32m━━━━━━━━━━━━━━━━━━━━\u001b[0m\u001b[37m\u001b[0m \u001b[1m21s\u001b[0m 157ms/step - loss: 0.0038 - val_loss: 0.0030\n",
            "Epoch 49/50\n",
            "\u001b[1m80/80\u001b[0m \u001b[32m━━━━━━━━━━━━━━━━━━━━\u001b[0m\u001b[37m\u001b[0m \u001b[1m20s\u001b[0m 153ms/step - loss: 0.0041 - val_loss: 0.0025\n",
            "Epoch 50/50\n",
            "\u001b[1m80/80\u001b[0m \u001b[32m━━━━━━━━━━━━━━━━━━━━\u001b[0m\u001b[37m\u001b[0m \u001b[1m21s\u001b[0m 154ms/step - loss: 0.0037 - val_loss: 0.0025\n",
            "\u001b[1m18/18\u001b[0m \u001b[32m━━━━━━━━━━━━━━━━━━━━\u001b[0m\u001b[37m\u001b[0m \u001b[1m1s\u001b[0m 52ms/step\n"
          ]
        }
      ]
    },
    {
      "cell_type": "markdown",
      "source": [
        "## **Evaluation**"
      ],
      "metadata": {
        "id": "2neBLgGWb7uB"
      }
    },
    {
      "cell_type": "markdown",
      "source": [
        "Fungsi evaluasi dibuat untuk menghitung tiga metrik performa utama:\n",
        "\n",
        "* Mean Absolute Error (MAE): Rata-rata absolut kesalahan prediksi.\n",
        "* Mean Squared Error (MSE): Rata-rata kuadrat kesalahan prediksi.\n",
        "* R-squared (R²): Kualitas fit model terhadap data sebenarnya.\n",
        "Setiap model dievaluasi pada data test untuk membandingkan performanya."
      ],
      "metadata": {
        "id": "KBVbKbcCwVUA"
      }
    },
    {
      "cell_type": "code",
      "source": [
        "# Evaluation function\n",
        "def evaluate_model(name, y_true, y_pred):\n",
        "    mae = mean_absolute_error(y_true, y_pred)\n",
        "    mse = mean_squared_error(y_true, y_pred)\n",
        "    r2 = r2_score(y_true, y_pred)\n",
        "    print(f\"{name} Evaluation:\\nMAE: {mae}\\nMSE: {mse}\\nR^2: {r2}\\n\")\n",
        "\n",
        "# Evaluate the models\n",
        "evaluate_model(\"Random Forest\", y_test, rf_preds)\n",
        "evaluate_model(\"Gradient Boosting\", y_test, gb_preds)\n",
        "evaluate_model(\"RNN\", y_test, rnn_preds)"
      ],
      "metadata": {
        "colab": {
          "base_uri": "https://localhost:8080/"
        },
        "id": "ymIvw4o8oKhY",
        "outputId": "88084b83-e2f0-47d4-e41e-fbd73fd0ae7d"
      },
      "execution_count": null,
      "outputs": [
        {
          "output_type": "stream",
          "name": "stdout",
          "text": [
            "Random Forest Evaluation:\n",
            "MAE: 0.010620116328287372\n",
            "MSE: 0.00019772468576288951\n",
            "R^2: 0.9945941293679008\n",
            "\n",
            "Gradient Boosting Evaluation:\n",
            "MAE: 0.010223996372961218\n",
            "MSE: 0.0001809642687199338\n",
            "R^2: 0.9950523657581859\n",
            "\n",
            "RNN Evaluation:\n",
            "MAE: 0.036825949161540514\n",
            "MSE: 0.0022658183835689515\n",
            "R^2: 0.9380516347255979\n",
            "\n"
          ]
        }
      ]
    },
    {
      "cell_type": "markdown",
      "source": [
        "## **Testing**"
      ],
      "metadata": {
        "id": "8vVNEuNnQAuP"
      }
    },
    {
      "cell_type": "markdown",
      "source": [
        "Dilakukan pengujian lebih lanjut untuk memastikan bahwa model bekerja dengan baik pada data yang tidak dilihat sebelumnya."
      ],
      "metadata": {
        "id": "P5dpXlVmwbAA"
      }
    },
    {
      "cell_type": "code",
      "source": [
        "# Testing phase (testing the models with unseen data)\n",
        "print(\"Testing Random Forest Model:\")\n",
        "rf_test_preds = rf_model.predict(X_test)\n",
        "evaluate_model(\"Random Forest Test\", y_test, rf_test_preds)\n",
        "\n",
        "print(\"Testing Gradient Boosting Model:\")\n",
        "gb_test_preds = gb_model.predict(X_test)\n",
        "evaluate_model(\"Gradient Boosting Test\", y_test, gb_test_preds)\n",
        "\n",
        "print(\"Testing RNN Model:\")\n",
        "rnn_test_preds = rnn_model.predict(X_test_rnn)\n",
        "evaluate_model(\"RNN Test\", y_test, rnn_test_preds)"
      ],
      "metadata": {
        "colab": {
          "base_uri": "https://localhost:8080/"
        },
        "id": "jKNhdJ6vP-4z",
        "outputId": "1be64c9e-8ab4-471f-9459-7f0b0822f8fd"
      },
      "execution_count": null,
      "outputs": [
        {
          "output_type": "stream",
          "name": "stdout",
          "text": [
            "Testing Random Forest Model:\n",
            "Random Forest Test Evaluation:\n",
            "MAE: 0.010620116328287372\n",
            "MSE: 0.00019772468576288951\n",
            "R^2: 0.9945941293679008\n",
            "\n",
            "Testing Gradient Boosting Model:\n",
            "Gradient Boosting Test Evaluation:\n",
            "MAE: 0.010223996372961218\n",
            "MSE: 0.0001809642687199338\n",
            "R^2: 0.9950523657581859\n",
            "\n",
            "Testing RNN Model:\n",
            "\u001b[1m18/18\u001b[0m \u001b[32m━━━━━━━━━━━━━━━━━━━━\u001b[0m\u001b[37m\u001b[0m \u001b[1m2s\u001b[0m 96ms/step\n",
            "RNN Test Evaluation:\n",
            "MAE: 0.036825949161540514\n",
            "MSE: 0.0022658183835689515\n",
            "R^2: 0.9380516347255979\n",
            "\n"
          ]
        }
      ]
    }
  ]
}